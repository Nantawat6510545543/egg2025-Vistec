{
 "cells": [
  {
   "cell_type": "markdown",
   "id": "353efbe5",
   "metadata": {},
   "source": [
    "# Import"
   ]
  },
  {
   "cell_type": "code",
   "execution_count": 1,
   "id": "d9b90ba6",
   "metadata": {},
   "outputs": [],
   "source": [
    "import os\n",
    "import mne\n",
    "from mne import events_from_annotations, create_info, EpochsArray, concatenate_epochs, Epochs\n",
    "import json\n",
    "import pandas as pd\n",
    "from pathlib import Path\n",
    "import re\n",
    "import matplotlib.pyplot as plt\n",
    "import numpy as np\n",
    "import warnings\n",
    "\n",
    "warnings.filterwarnings(\"ignore\", message=\".*boundary.*data discontinuities.*\")\n",
    "warnings.filterwarnings(\"ignore\", message=\"FigureCanvasAgg is non-interactive, and thus cannot be shown\")"
   ]
  },
  {
   "cell_type": "markdown",
   "id": "44e4ce1a",
   "metadata": {},
   "source": [
    "# Classes"
   ]
  },
  {
   "cell_type": "markdown",
   "id": "4aa24591",
   "metadata": {},
   "source": [
    "### EEGTaskData"
   ]
  },
  {
   "cell_type": "code",
   "execution_count": 2,
   "id": "7b7db5e9",
   "metadata": {},
   "outputs": [],
   "source": [
    "class EEGTaskData:\n",
    "    def __init__(self, subject, task, run, data_dir, l_freq=1, h_freq=40):\n",
    "        self.subject = subject\n",
    "        self.task = task\n",
    "        self.run = run\n",
    "        self.data_dir = data_dir\n",
    "        self.l_freq = l_freq\n",
    "        self.h_freq = h_freq\n",
    "\n",
    "        self.raw = None\n",
    "        self.metadata = {}\n",
    "        self.events = None\n",
    "        self.channels = None\n",
    "        self.electrodes = None\n",
    "\n",
    "        self.epochs = None\n",
    "        self.label = None\n",
    "\n",
    "        self._load()\n",
    "\n",
    "        if task == 'RestingState':\n",
    "            self._resting_preprocess()\n",
    "\n",
    "    def _get_file(self, ext):\n",
    "        name = f\"sub-{self.subject}_task-{self.task}\"\n",
    "        if self.run:\n",
    "            name += f\"_run-{self.run}\"\n",
    "        return self.data_dir / f\"{name}_{ext}\"\n",
    "\n",
    "    def _load(self):\n",
    "        eeg_path = self._get_file(\"eeg.set\")\n",
    "        self.raw = mne.io.read_raw_eeglab(eeg_path, preload=True, montage_units='cm')\n",
    "        montage = mne.channels.make_standard_montage(\"GSN-HydroCel-128\")\n",
    "        self.raw.drop_channels(['Cz'])\n",
    "        self.raw.set_montage(montage, match_case=False)\n",
    "        self.raw.filter(l_freq=self.l_freq, h_freq=self.h_freq)\n",
    "\n",
    "        json_path = self._get_file(\"eeg.json\")\n",
    "        if json_path.exists():\n",
    "            with open(json_path) as f:\n",
    "                self.metadata = json.load(f)\n",
    "\n",
    "        event_path = self._get_file(\"events.tsv\")\n",
    "        if event_path.exists():\n",
    "            self.events = pd.read_csv(event_path, sep='\\t')\n",
    "\n",
    "        channels_path = self._get_file(\"channels.tsv\")\n",
    "        if channels_path.exists():\n",
    "            self.channels = pd.read_csv(channels_path, sep='\\t')\n",
    "\n",
    "        electrodes_path = self._get_file(\"electrodes.tsv\")\n",
    "        if electrodes_path.exists():\n",
    "            self.electrodes = pd.read_csv(electrodes_path, sep='\\t')\n",
    "\n",
    "    def _resting_preprocess(self, tmin=0.0, tmax=20.0):\n",
    "        \"\"\"\n",
    "        Crop raw based on 'resting_start' to 'break cnt' in events.tsv,\n",
    "        then epoch using eye condition annotations.\n",
    "        \"\"\"\n",
    "        if self.events is None or self.raw is None:\n",
    "            raise ValueError(\"Events or raw data not loaded.\")\n",
    "\n",
    "        # Step 1: Find resting_start and break cnt from TSV\n",
    "        df = self.events\n",
    "\n",
    "        t_start = df[df['value'] == 'resting_start']['onset'].values[0]\n",
    "        t_end = df[df['value'] == 'break cnt']['onset'].values[1]\n",
    "\n",
    "        # Step 2: Crop raw to this resting window\n",
    "        self.raw.crop(tmin=t_start, tmax=t_end)\n",
    "\n",
    "        # Step 3: Extract new events from cropped raw's annotations\n",
    "        events, event_id = events_from_annotations(self.raw)\n",
    "\n",
    "        eye_event_id = {\n",
    "            'open': event_id['instructed_toOpenEyes'],\n",
    "            'close': event_id['instructed_toCloseEyes']\n",
    "        }\n",
    "\n",
    "        # Step 4: Create epochs based on eye condition labels\n",
    "        epochs = Epochs(\n",
    "            self.raw,\n",
    "            events=events,\n",
    "            event_id=eye_event_id,\n",
    "            tmin=tmin,\n",
    "            tmax=tmax,\n",
    "            proj=True,\n",
    "            baseline=None,\n",
    "            preload=True\n",
    "        )\n",
    "\n",
    "        self.epochs = epochs\n",
    "        self.labels = self.epochs.events[:, -1] - eye_event_id['open']  # 0=open, 1=close\n",
    "\n",
    "\n",
    "    def show_annotations(self):\n",
    "        return self.metadata if self.metadata else None\n",
    "\n",
    "    def show_table(self, name='events', rows=10):\n",
    "        df_map = {\n",
    "            'events': self.events,\n",
    "            'channels': self.channels,\n",
    "            'electrodes': self.electrodes\n",
    "        }\n",
    "\n",
    "        if name == 'epochs' and self.epochs is not None:\n",
    "            info = {\n",
    "                'n_epochs': len(self.epochs),\n",
    "                'n_channels': len(self.epochs.ch_names),\n",
    "                'timespan_sec': self.epochs.times[-1] - self.epochs.times[0],\n",
    "                'labels': np.unique(self.labels) if self.labels is not None else 'N/A',\n",
    "                'sampling_rate': self.epochs.info['sfreq'],\n",
    "                'duration_per_epoch_sec': self.epochs.get_data().shape[-1] / self.epochs.info['sfreq']\n",
    "            }\n",
    "            return pd.DataFrame([info])\n",
    "\n",
    "        df = df_map.get(name)\n",
    "        return df.head(rows) if df is not None else None\n",
    "    \n",
    "    def get_raw(self):\n",
    "        return self.raw\n",
    "    \n",
    "    def get_eye_epochs(self):\n",
    "        \"\"\"Returns (epochs, labels) if available, else (None, None).\"\"\"\n",
    "        return self.epochs, self.labels\n"
   ]
  },
  {
   "cell_type": "markdown",
   "id": "2a6eefd3",
   "metadata": {},
   "source": [
    "### EEGSubjectData"
   ]
  },
  {
   "cell_type": "code",
   "execution_count": 3,
   "id": "8290f1dc",
   "metadata": {},
   "outputs": [],
   "source": [
    "class EEGSubjectData:\n",
    "    def __init__(self, data_directory, l_freq=None, h_freq=50):\n",
    "        self.data_dir = Path(data_directory)\n",
    "        self.subjects = {}  # subject_id → { (task, run): EEGTaskData }\n",
    "        self.l_freq = l_freq\n",
    "        self.h_freq = h_freq\n",
    "\n",
    "        self._load_subjects()\n",
    "\n",
    "    def _load_subjects(self):\n",
    "        pattern = re.compile(r\"sub-(?P<subject>[^_]+)_task-(?P<task>[^_]+)(?:_run-(?P<run>\\d+))?_eeg.set\")\n",
    "        for file in self.data_dir.glob(\"sub-*_task-*_eeg.set\"):\n",
    "            match = pattern.match(file.name)\n",
    "            if match:\n",
    "                subject = match.group(\"subject\")\n",
    "                task = match.group(\"task\")\n",
    "                run = match.group(\"run\")\n",
    "\n",
    "                if subject not in self.subjects:\n",
    "                    self.subjects[subject] = {}\n",
    "\n",
    "                key = (task, run)\n",
    "                self.subjects[subject][key] = EEGTaskData(subject, task, run, self.data_dir, self.l_freq, self.h_freq)\n",
    "\n",
    "    def get_task(self, subject, task, run=None):\n",
    "        return self.subjects.get(subject, {}).get((task, run))\n"
   ]
  },
  {
   "cell_type": "markdown",
   "id": "af51c383",
   "metadata": {},
   "source": [
    "### EEGVisualization"
   ]
  },
  {
   "cell_type": "code",
   "execution_count": 4,
   "id": "5b86ff61",
   "metadata": {},
   "outputs": [],
   "source": [
    "class EEGVisualization:\n",
    "    def __init__(self, subject_data: EEGSubjectData):\n",
    "        self.data = subject_data\n",
    "\n",
    "    def plot_sensors(self, subject, task, run=None):\n",
    "        task_data = self.data.get_task(subject, task, run)\n",
    "        if task_data and task_data.raw:\n",
    "            task_data.raw.plot_sensors(show_names=True)\n",
    "\n",
    "    def plot_time(self, subject, task, run=None, **kwargs):\n",
    "        task_data = self.data.get_task(subject, task, run)\n",
    "        raw = task_data.raw\n",
    "\n",
    "        duration = kwargs.get('duration', 10.0)\n",
    "        start = kwargs.get('start', 0.0)\n",
    "        n_channels = kwargs.get('n_channels', 10)\n",
    "\n",
    "        title = f\"{subject} - {task}\" + (f\" (Run {run})\" if run else \"\")\n",
    "        raw.plot(\n",
    "            title=title,\n",
    "            duration=duration,\n",
    "            start=start,\n",
    "            n_channels=n_channels,\n",
    "            scalings='auto',\n",
    "            show=True,\n",
    "            block=True\n",
    "        )\n",
    "\n",
    "    def plot_frequency(self, subject, task, run=None, **kwargs):\n",
    "        task_data = self.data.get_task(subject, task, run)\n",
    "        raw = task_data.raw\n",
    "\n",
    "        fmin = kwargs.get(\"fmin\", 1)\n",
    "        fmax = kwargs.get(\"fmax\", 60)\n",
    "        average = kwargs.get(\"average\", True)\n",
    "        dB = kwargs.get(\"dB\", True)\n",
    "        spatial_colors = kwargs.get(\"spatial_colors\", False)\n",
    "        show = kwargs.get(\"show\", True)\n",
    "\n",
    "        psd = raw.compute_psd(fmin=fmin, fmax=fmax)\n",
    "        psd.plot(average=average, spatial_colors=spatial_colors, dB=dB, show=show)\n",
    "\n",
    "    def plot_conditionwise_psd(self, subject, task, run=None, **kwargs):\n",
    "        fmin = kwargs.get(\"fmin\", 1)\n",
    "        fmax = kwargs.get(\"fmax\", 50)\n",
    "        tmin = kwargs.get(\"tmin\", None)\n",
    "        tmax = kwargs.get(\"tmax\", None)\n",
    "        average = kwargs.get(\"average\", True)\n",
    "        dB = kwargs.get(\"dB\", True)\n",
    "\n",
    "        task_data = self.data.get_task(subject, task, run)\n",
    "        epochs = task_data.epochs\n",
    "        event_ids = epochs.event_id\n",
    "\n",
    "        for condition_name in event_ids:\n",
    "            condition_epochs = epochs[condition_name]\n",
    "            if tmin is not None or tmax is not None:\n",
    "                condition_epochs = condition_epochs.copy().crop(tmin=tmin, tmax=tmax)\n",
    "\n",
    "            psd = condition_epochs.compute_psd(fmin=fmin, fmax=fmax)\n",
    "            psd.plot(spatial_colors=True, average=average, dB=dB)\n",
    "            fig = plt.gcf()\n",
    "            fig.suptitle(f\"{subject} - {task} - {condition_name}\", fontsize=14)\n",
    "            fig.subplots_adjust(top=0.85)\n",
    "\n",
    "            if tmin is not None or tmax is not None:\n",
    "                caption = f\"Epoch time window: tmin = {tmin if tmin is not None else 'auto'}, tmax = {tmax if tmax is not None else 'auto'}\"\n",
    "                fig.text(0.5, 0.01, caption, ha='center', fontsize=10)\n"
   ]
  },
  {
   "cell_type": "markdown",
   "id": "262f4328",
   "metadata": {},
   "source": [
    "### EEGController"
   ]
  },
  {
   "cell_type": "code",
   "execution_count": 5,
   "id": "a21045a9",
   "metadata": {},
   "outputs": [],
   "source": [
    "class EEGController:\n",
    "    def __init__(self, subject_data: 'EEGSubjectData', visualizer: 'EEGVisualization'):\n",
    "        self.subject_data = subject_data\n",
    "        self.visualizer = visualizer\n",
    "\n",
    "    def list_subjects(self):\n",
    "        return list(self.subject_data.subjects.keys())\n",
    "\n",
    "    def list_tasks(self, subject):\n",
    "        return list(self.subject_data.subjects.get(subject, {}).keys())\n",
    "\n",
    "    def show(self, subject, task, run=None, plot_type='time', **kwargs):\n",
    "        if plot_type == 'time':\n",
    "            self.visualizer.plot_time(subject, task, run, **kwargs)\n",
    "        elif plot_type == 'sensors':\n",
    "            self.visualizer.plot_sensors(subject, task, run)\n",
    "        elif plot_type == 'frequency':\n",
    "            self.visualizer.plot_frequency(subject, task, run)\n",
    "        elif plot_type == 'conditionwise psd':\n",
    "            self.visualizer.plot_conditionwise_psd(subject, task, run, **kwargs)\n",
    "\n",
    "    def show_annotations(self, subject, task, run=None):\n",
    "        \"\"\"Return metadata dict or None.\"\"\"\n",
    "        task_data = self.subject_data.get_task(subject, task, run)\n",
    "        return task_data.show_annotations() if task_data else None\n",
    "\n",
    "    def show_table(self, subject, task, run=None, name='events', rows=10):\n",
    "        \"\"\"Return DataFrame or None.\"\"\"\n",
    "        task_data = self.subject_data.get_task(subject, task, run)\n",
    "        return task_data.show_table(name=name, rows=rows) if task_data else None\n",
    "\n",
    "    def get_annotation_df(self, subject, task, run=None):\n",
    "        task_data = self.subject_data.get_task(subject, task, run)\n",
    "\n",
    "        raw = task_data.get_raw()\n",
    "        \n",
    "        annots = raw.annotations\n",
    "        df = pd.DataFrame({\n",
    "            \"onset\": annots.onset,\n",
    "            \"duration\": annots.duration,\n",
    "            \"description\": annots.description\n",
    "        })\n",
    "        return df"
   ]
  },
  {
   "cell_type": "markdown",
   "id": "77c3d067",
   "metadata": {},
   "source": [
    "### EEGUI"
   ]
  },
  {
   "cell_type": "code",
   "execution_count": 6,
   "id": "12a2c365",
   "metadata": {},
   "outputs": [],
   "source": [
    "import ipywidgets as widgets\n",
    "from IPython.display import display, clear_output\n",
    "import json  # Needed for metadata display\n",
    "\n",
    "class EEGUI:\n",
    "    def __init__(self, controller: 'EEGController'):\n",
    "        self.controller = controller\n",
    "\n",
    "        # Get and sort subject list\n",
    "        subjects = sorted(self.controller.list_subjects())\n",
    "\n",
    "        # Widgets\n",
    "        self.subject_dropdown = widgets.Dropdown(\n",
    "            options=subjects,\n",
    "            description='Subject:',\n",
    "            layout=widgets.Layout(width='250px')\n",
    "        )\n",
    "\n",
    "        self.task_dropdown = widgets.Dropdown(\n",
    "            options=[], \n",
    "            description='Task:',\n",
    "            layout=widgets.Layout(width='250px')\n",
    "        )\n",
    "\n",
    "        self.run_text = widgets.Text(\n",
    "            description='Run:',\n",
    "            placeholder='Optional',\n",
    "            layout=widgets.Layout(width='250px')\n",
    "        )\n",
    "\n",
    "        self.plot_type = widgets.ToggleButtons(\n",
    "            options=['time', 'sensors', 'frequency', 'conditionwise psd'],\n",
    "            description='Plot:',\n",
    "            layout=widgets.Layout(width='600px')\n",
    "        )\n",
    "\n",
    "        # Frequency Domain\n",
    "        self.average_check = widgets.Checkbox(\n",
    "            value=True,\n",
    "            description='Average',\n",
    "            indent=False\n",
    "        )\n",
    "\n",
    "        self.db_check = widgets.Checkbox(\n",
    "            value=True,\n",
    "            description='dB',\n",
    "            indent=False\n",
    "        )\n",
    "\n",
    "        # Time Domain\n",
    "        self.duration_float = widgets.FloatText(value=10.0, description='duration:', layout=widgets.Layout(width='200px'))\n",
    "        self.start_float = widgets.FloatText(value=0.0, description='start:', layout=widgets.Layout(width='200px'))\n",
    "        self.nchan_int = widgets.IntText(value=10, description='n_channels:', layout=widgets.Layout(width='200px'))\n",
    "\n",
    "        # Time and frequency inputs\n",
    "        self.tmin_float = widgets.FloatText(value=0.0, description='tmin:', layout=widgets.Layout(width='200px'))\n",
    "        self.tmax_float = widgets.FloatText(value=2.0, description='tmax:', layout=widgets.Layout(width='200px'))\n",
    "        self.fmin_float = widgets.FloatText(value=1.0, description='fmin:', layout=widgets.Layout(width='200px'))\n",
    "        self.fmax_float = widgets.FloatText(value=50.0, description='fmax:', layout=widgets.Layout(width='200px'))\n",
    "\n",
    "        # Param containers\n",
    "        self.t_controls = widgets.HBox([self.tmin_float, self.tmax_float])\n",
    "        self.f_controls = widgets.HBox([self.fmin_float, self.fmax_float])\n",
    "        self.time_controls = widgets.HBox([self.duration_float, self.start_float, self.nchan_int])\n",
    "        self.psd_options = widgets.HBox([self.average_check, self.db_check])\n",
    "        self.param_box = widgets.VBox([])\n",
    "\n",
    "        self.plot_button = widgets.Button(description='Plot', button_style='success')\n",
    "\n",
    "        self.table_type = widgets.Dropdown(\n",
    "            options=['events', 'channels', 'electrodes', 'epochs'],\n",
    "            description='Table:',\n",
    "            layout=widgets.Layout(width='250px')\n",
    "        )\n",
    "\n",
    "        self.info_button = widgets.Button(description='Show Info', button_style='info')\n",
    "        self.output = widgets.Output()\n",
    "\n",
    "        # Link events\n",
    "        self.subject_dropdown.observe(self.update_tasks, names='value')\n",
    "        self.plot_type.observe(self.update_param_inputs, names='value')\n",
    "        self.plot_button.on_click(self.do_plot)\n",
    "        self.info_button.on_click(self.do_show_info)\n",
    "\n",
    "        # UI layout\n",
    "        self.ui = widgets.VBox([\n",
    "            self.subject_dropdown,\n",
    "            self.task_dropdown,\n",
    "            self.run_text,\n",
    "            self.plot_type,\n",
    "            self.param_box,\n",
    "            self.plot_button,\n",
    "            widgets.HBox([self.table_type, self.info_button]),\n",
    "            self.output\n",
    "        ])\n",
    "\n",
    "        # Init values\n",
    "        if subjects:\n",
    "            self.subject_dropdown.value = subjects[0]\n",
    "            self.update_tasks()\n",
    "        self.update_param_inputs()  # Show/hide params based on default selection\n",
    "\n",
    "    def update_tasks(self, *args):\n",
    "        subject = self.subject_dropdown.value\n",
    "        task_keys = sorted(self.controller.list_tasks(subject))\n",
    "        formatted = [(f\"{t} (run {r})\" if r else t, (t, r)) for t, r in task_keys]\n",
    "        self.task_dropdown.options = formatted\n",
    "        if formatted:\n",
    "            self.task_dropdown.value = formatted[0][1]\n",
    "\n",
    "    def update_param_inputs(self, *args):\n",
    "        if self.plot_type.value == 'conditionwise psd':\n",
    "            self.param_box.children = [self.t_controls, self.f_controls, self.psd_options]\n",
    "        elif self.plot_type.value == 'frequency':\n",
    "            self.param_box.children = [self.f_controls, self.psd_options]\n",
    "        elif self.plot_type.value == 'time':\n",
    "            self.param_box.children = [self.time_controls]\n",
    "        else:\n",
    "            self.param_box.children = []\n",
    "\n",
    "\n",
    "    def do_plot(self, _):\n",
    "        with self.output:\n",
    "            clear_output(wait=True)\n",
    "\n",
    "            subject = self.subject_dropdown.value\n",
    "            task_value = self.task_dropdown.value\n",
    "            if task_value is None:\n",
    "                print(\"No task selected.\")\n",
    "                return\n",
    "\n",
    "            task, run = task_value\n",
    "            run = run if run else None\n",
    "\n",
    "            kwargs = {\n",
    "                'tmin': self.tmin_float.value,\n",
    "                'tmax': self.tmax_float.value,\n",
    "                'fmin': self.fmin_float.value,\n",
    "                'fmax': self.fmax_float.value,\n",
    "                'duration': self.duration_float.value,\n",
    "                'start': self.start_float.value,\n",
    "                'n_channels': self.nchan_int.value,\n",
    "                'average': self.average_check.value,\n",
    "                'dB': self.db_check.value\n",
    "            }\n",
    "\n",
    "            self.controller.show(subject, task, run, plot_type=self.plot_type.value, **kwargs)\n",
    "\n",
    "    def do_show_info(self, _):\n",
    "        with self.output:\n",
    "            clear_output(wait=True)\n",
    "            subject = self.subject_dropdown.value\n",
    "            task_value = self.task_dropdown.value\n",
    "            if task_value is None:\n",
    "                print(\"No task selected.\")\n",
    "                return\n",
    "\n",
    "            task, run = task_value\n",
    "            run = run if run else None\n",
    "\n",
    "            metadata = self.controller.show_annotations(subject, task, run)\n",
    "            print(f\"Metadata for {subject} - {task} (Run {run}):\")\n",
    "            if metadata:\n",
    "                print(json.dumps(metadata, indent=2))\n",
    "            else:\n",
    "                print(\"No metadata available.\")\n",
    "\n",
    "            table_name = self.table_type.value\n",
    "            df = self.controller.show_table(subject, task, run, name=table_name)\n",
    "            print(f\"\\nTable: {table_name}\")\n",
    "            if df is not None:\n",
    "                display(df)\n",
    "            else:\n",
    "                print(\"No table data available.\")\n",
    "\n",
    "    def show(self):\n",
    "        display(self.ui)"
   ]
  },
  {
   "cell_type": "markdown",
   "id": "ecd1ecf6",
   "metadata": {},
   "source": [
    "# Initialize"
   ]
  },
  {
   "cell_type": "markdown",
   "id": "53401f09",
   "metadata": {},
   "source": [
    "### Load"
   ]
  },
  {
   "cell_type": "code",
   "execution_count": 7,
   "id": "71f71719",
   "metadata": {},
   "outputs": [
    {
     "name": "stdout",
     "output_type": "stream",
     "text": [
      "Filtering raw data in 1 contiguous segment\n",
      "Setting up band-pass filter from 1 - 50 Hz\n",
      "\n",
      "FIR filter parameters\n",
      "---------------------\n",
      "Designing a one-pass, zero-phase, non-causal bandpass filter:\n",
      "- Windowed time-domain design (firwin) method\n",
      "- Hamming window with 0.0194 passband ripple and 53 dB stopband attenuation\n",
      "- Lower passband edge: 1.00\n",
      "- Lower transition bandwidth: 1.00 Hz (-6 dB cutoff frequency: 0.50 Hz)\n",
      "- Upper passband edge: 50.00 Hz\n",
      "- Upper transition bandwidth: 12.50 Hz (-6 dB cutoff frequency: 56.25 Hz)\n",
      "- Filter length: 1651 samples (3.302 s)\n",
      "\n"
     ]
    },
    {
     "name": "stderr",
     "output_type": "stream",
     "text": [
      "[Parallel(n_jobs=1)]: Done  17 tasks      | elapsed:    3.1s\n",
      "[Parallel(n_jobs=1)]: Done  71 tasks      | elapsed:    9.1s\n"
     ]
    },
    {
     "name": "stdout",
     "output_type": "stream",
     "text": [
      "Filtering raw data in 1 contiguous segment\n",
      "Setting up band-pass filter from 1 - 50 Hz\n",
      "\n",
      "FIR filter parameters\n",
      "---------------------\n",
      "Designing a one-pass, zero-phase, non-causal bandpass filter:\n",
      "- Windowed time-domain design (firwin) method\n",
      "- Hamming window with 0.0194 passband ripple and 53 dB stopband attenuation\n",
      "- Lower passband edge: 1.00\n",
      "- Lower transition bandwidth: 1.00 Hz (-6 dB cutoff frequency: 0.50 Hz)\n",
      "- Upper passband edge: 50.00 Hz\n",
      "- Upper transition bandwidth: 12.50 Hz (-6 dB cutoff frequency: 56.25 Hz)\n",
      "- Filter length: 1651 samples (3.302 s)\n",
      "\n"
     ]
    },
    {
     "name": "stderr",
     "output_type": "stream",
     "text": [
      "[Parallel(n_jobs=1)]: Done  17 tasks      | elapsed:    0.7s\n",
      "[Parallel(n_jobs=1)]: Done  71 tasks      | elapsed:    4.6s\n"
     ]
    },
    {
     "name": "stdout",
     "output_type": "stream",
     "text": [
      "Filtering raw data in 1 contiguous segment\n",
      "Setting up band-pass filter from 1 - 50 Hz\n",
      "\n",
      "FIR filter parameters\n",
      "---------------------\n",
      "Designing a one-pass, zero-phase, non-causal bandpass filter:\n",
      "- Windowed time-domain design (firwin) method\n",
      "- Hamming window with 0.0194 passband ripple and 53 dB stopband attenuation\n",
      "- Lower passband edge: 1.00\n",
      "- Lower transition bandwidth: 1.00 Hz (-6 dB cutoff frequency: 0.50 Hz)\n",
      "- Upper passband edge: 50.00 Hz\n",
      "- Upper transition bandwidth: 12.50 Hz (-6 dB cutoff frequency: 56.25 Hz)\n",
      "- Filter length: 1651 samples (3.302 s)\n",
      "\n"
     ]
    },
    {
     "name": "stderr",
     "output_type": "stream",
     "text": [
      "[Parallel(n_jobs=1)]: Done  17 tasks      | elapsed:    0.5s\n",
      "[Parallel(n_jobs=1)]: Done  71 tasks      | elapsed:    2.6s\n"
     ]
    },
    {
     "name": "stdout",
     "output_type": "stream",
     "text": [
      "Filtering raw data in 1 contiguous segment\n",
      "Setting up band-pass filter from 1 - 50 Hz\n",
      "\n",
      "FIR filter parameters\n",
      "---------------------\n",
      "Designing a one-pass, zero-phase, non-causal bandpass filter:\n",
      "- Windowed time-domain design (firwin) method\n",
      "- Hamming window with 0.0194 passband ripple and 53 dB stopband attenuation\n",
      "- Lower passband edge: 1.00\n",
      "- Lower transition bandwidth: 1.00 Hz (-6 dB cutoff frequency: 0.50 Hz)\n",
      "- Upper passband edge: 50.00 Hz\n",
      "- Upper transition bandwidth: 12.50 Hz (-6 dB cutoff frequency: 56.25 Hz)\n",
      "- Filter length: 1651 samples (3.302 s)\n",
      "\n"
     ]
    },
    {
     "name": "stderr",
     "output_type": "stream",
     "text": [
      "[Parallel(n_jobs=1)]: Done  17 tasks      | elapsed:    0.9s\n",
      "[Parallel(n_jobs=1)]: Done  71 tasks      | elapsed:    7.3s\n"
     ]
    },
    {
     "name": "stdout",
     "output_type": "stream",
     "text": [
      "Filtering raw data in 1 contiguous segment\n",
      "Setting up band-pass filter from 1 - 50 Hz\n",
      "\n",
      "FIR filter parameters\n",
      "---------------------\n",
      "Designing a one-pass, zero-phase, non-causal bandpass filter:\n",
      "- Windowed time-domain design (firwin) method\n",
      "- Hamming window with 0.0194 passband ripple and 53 dB stopband attenuation\n",
      "- Lower passband edge: 1.00\n",
      "- Lower transition bandwidth: 1.00 Hz (-6 dB cutoff frequency: 0.50 Hz)\n",
      "- Upper passband edge: 50.00 Hz\n",
      "- Upper transition bandwidth: 12.50 Hz (-6 dB cutoff frequency: 56.25 Hz)\n",
      "- Filter length: 1651 samples (3.302 s)\n",
      "\n"
     ]
    },
    {
     "name": "stderr",
     "output_type": "stream",
     "text": [
      "[Parallel(n_jobs=1)]: Done  17 tasks      | elapsed:    0.8s\n",
      "[Parallel(n_jobs=1)]: Done  71 tasks      | elapsed:    2.3s\n"
     ]
    },
    {
     "name": "stdout",
     "output_type": "stream",
     "text": [
      "Filtering raw data in 1 contiguous segment\n",
      "Setting up band-pass filter from 1 - 50 Hz\n",
      "\n",
      "FIR filter parameters\n",
      "---------------------\n",
      "Designing a one-pass, zero-phase, non-causal bandpass filter:\n",
      "- Windowed time-domain design (firwin) method\n",
      "- Hamming window with 0.0194 passband ripple and 53 dB stopband attenuation\n",
      "- Lower passband edge: 1.00\n",
      "- Lower transition bandwidth: 1.00 Hz (-6 dB cutoff frequency: 0.50 Hz)\n",
      "- Upper passband edge: 50.00 Hz\n",
      "- Upper transition bandwidth: 12.50 Hz (-6 dB cutoff frequency: 56.25 Hz)\n",
      "- Filter length: 1651 samples (3.302 s)\n",
      "\n"
     ]
    },
    {
     "name": "stderr",
     "output_type": "stream",
     "text": [
      "[Parallel(n_jobs=1)]: Done  17 tasks      | elapsed:    0.5s\n",
      "[Parallel(n_jobs=1)]: Done  71 tasks      | elapsed:    2.0s\n"
     ]
    },
    {
     "name": "stdout",
     "output_type": "stream",
     "text": [
      "Used Annotations descriptions: ['break cnt', 'instructed_toCloseEyes', 'instructed_toOpenEyes', 'resting_start']\n",
      "Not setting metadata\n",
      "11 matching events found\n",
      "No baseline correction applied\n",
      "0 projection items activated\n",
      "Using data from preloaded Raw for 11 events and 10001 original time points ...\n",
      "1 bad epochs dropped\n",
      "Filtering raw data in 1 contiguous segment\n",
      "Setting up band-pass filter from 1 - 50 Hz\n",
      "\n",
      "FIR filter parameters\n",
      "---------------------\n",
      "Designing a one-pass, zero-phase, non-causal bandpass filter:\n",
      "- Windowed time-domain design (firwin) method\n",
      "- Hamming window with 0.0194 passband ripple and 53 dB stopband attenuation\n",
      "- Lower passband edge: 1.00\n",
      "- Lower transition bandwidth: 1.00 Hz (-6 dB cutoff frequency: 0.50 Hz)\n",
      "- Upper passband edge: 50.00 Hz\n",
      "- Upper transition bandwidth: 12.50 Hz (-6 dB cutoff frequency: 56.25 Hz)\n",
      "- Filter length: 1651 samples (3.302 s)\n",
      "\n"
     ]
    },
    {
     "name": "stderr",
     "output_type": "stream",
     "text": [
      "[Parallel(n_jobs=1)]: Done  17 tasks      | elapsed:    0.2s\n",
      "[Parallel(n_jobs=1)]: Done  71 tasks      | elapsed:    0.7s\n"
     ]
    },
    {
     "name": "stdout",
     "output_type": "stream",
     "text": [
      "Filtering raw data in 1 contiguous segment\n",
      "Setting up band-pass filter from 1 - 50 Hz\n",
      "\n",
      "FIR filter parameters\n",
      "---------------------\n",
      "Designing a one-pass, zero-phase, non-causal bandpass filter:\n",
      "- Windowed time-domain design (firwin) method\n",
      "- Hamming window with 0.0194 passband ripple and 53 dB stopband attenuation\n",
      "- Lower passband edge: 1.00\n",
      "- Lower transition bandwidth: 1.00 Hz (-6 dB cutoff frequency: 0.50 Hz)\n",
      "- Upper passband edge: 50.00 Hz\n",
      "- Upper transition bandwidth: 12.50 Hz (-6 dB cutoff frequency: 56.25 Hz)\n",
      "- Filter length: 1651 samples (3.302 s)\n",
      "\n"
     ]
    },
    {
     "name": "stderr",
     "output_type": "stream",
     "text": [
      "[Parallel(n_jobs=1)]: Done  17 tasks      | elapsed:    0.4s\n",
      "[Parallel(n_jobs=1)]: Done  71 tasks      | elapsed:    1.4s\n"
     ]
    },
    {
     "name": "stdout",
     "output_type": "stream",
     "text": [
      "Filtering raw data in 1 contiguous segment\n",
      "Setting up band-pass filter from 1 - 50 Hz\n",
      "\n",
      "FIR filter parameters\n",
      "---------------------\n",
      "Designing a one-pass, zero-phase, non-causal bandpass filter:\n",
      "- Windowed time-domain design (firwin) method\n",
      "- Hamming window with 0.0194 passband ripple and 53 dB stopband attenuation\n",
      "- Lower passband edge: 1.00\n",
      "- Lower transition bandwidth: 1.00 Hz (-6 dB cutoff frequency: 0.50 Hz)\n",
      "- Upper passband edge: 50.00 Hz\n",
      "- Upper transition bandwidth: 12.50 Hz (-6 dB cutoff frequency: 56.25 Hz)\n",
      "- Filter length: 1651 samples (3.302 s)\n",
      "\n"
     ]
    },
    {
     "name": "stderr",
     "output_type": "stream",
     "text": [
      "[Parallel(n_jobs=1)]: Done  17 tasks      | elapsed:    0.3s\n",
      "[Parallel(n_jobs=1)]: Done  71 tasks      | elapsed:    1.3s\n"
     ]
    },
    {
     "name": "stdout",
     "output_type": "stream",
     "text": [
      "Filtering raw data in 1 contiguous segment\n",
      "Setting up band-pass filter from 1 - 50 Hz\n",
      "\n",
      "FIR filter parameters\n",
      "---------------------\n",
      "Designing a one-pass, zero-phase, non-causal bandpass filter:\n",
      "- Windowed time-domain design (firwin) method\n",
      "- Hamming window with 0.0194 passband ripple and 53 dB stopband attenuation\n",
      "- Lower passband edge: 1.00\n",
      "- Lower transition bandwidth: 1.00 Hz (-6 dB cutoff frequency: 0.50 Hz)\n",
      "- Upper passband edge: 50.00 Hz\n",
      "- Upper transition bandwidth: 12.50 Hz (-6 dB cutoff frequency: 56.25 Hz)\n",
      "- Filter length: 1651 samples (3.302 s)\n",
      "\n"
     ]
    },
    {
     "name": "stderr",
     "output_type": "stream",
     "text": [
      "[Parallel(n_jobs=1)]: Done  17 tasks      | elapsed:    0.4s\n",
      "[Parallel(n_jobs=1)]: Done  71 tasks      | elapsed:    1.5s\n"
     ]
    },
    {
     "name": "stdout",
     "output_type": "stream",
     "text": [
      "Filtering raw data in 1 contiguous segment\n",
      "Setting up band-pass filter from 1 - 50 Hz\n",
      "\n",
      "FIR filter parameters\n",
      "---------------------\n",
      "Designing a one-pass, zero-phase, non-causal bandpass filter:\n",
      "- Windowed time-domain design (firwin) method\n",
      "- Hamming window with 0.0194 passband ripple and 53 dB stopband attenuation\n",
      "- Lower passband edge: 1.00\n",
      "- Lower transition bandwidth: 1.00 Hz (-6 dB cutoff frequency: 0.50 Hz)\n",
      "- Upper passband edge: 50.00 Hz\n",
      "- Upper transition bandwidth: 12.50 Hz (-6 dB cutoff frequency: 56.25 Hz)\n",
      "- Filter length: 1651 samples (3.302 s)\n",
      "\n"
     ]
    },
    {
     "name": "stderr",
     "output_type": "stream",
     "text": [
      "[Parallel(n_jobs=1)]: Done  17 tasks      | elapsed:    0.2s\n",
      "[Parallel(n_jobs=1)]: Done  71 tasks      | elapsed:    0.7s\n"
     ]
    },
    {
     "name": "stdout",
     "output_type": "stream",
     "text": [
      "Filtering raw data in 1 contiguous segment\n",
      "Setting up band-pass filter from 1 - 50 Hz\n",
      "\n",
      "FIR filter parameters\n",
      "---------------------\n",
      "Designing a one-pass, zero-phase, non-causal bandpass filter:\n",
      "- Windowed time-domain design (firwin) method\n",
      "- Hamming window with 0.0194 passband ripple and 53 dB stopband attenuation\n",
      "- Lower passband edge: 1.00\n",
      "- Lower transition bandwidth: 1.00 Hz (-6 dB cutoff frequency: 0.50 Hz)\n",
      "- Upper passband edge: 50.00 Hz\n",
      "- Upper transition bandwidth: 12.50 Hz (-6 dB cutoff frequency: 56.25 Hz)\n",
      "- Filter length: 1651 samples (3.302 s)\n",
      "\n"
     ]
    },
    {
     "name": "stderr",
     "output_type": "stream",
     "text": [
      "[Parallel(n_jobs=1)]: Done  17 tasks      | elapsed:    0.2s\n",
      "[Parallel(n_jobs=1)]: Done  71 tasks      | elapsed:    0.6s\n"
     ]
    }
   ],
   "source": [
    "load = 1\n",
    "if load:\n",
    "    data_dir = '/mount/sub/cmi_bids_R1/eeg'\n",
    "    subject_data = EEGSubjectData(data_dir, l_freq=1, h_freq=50)"
   ]
  },
  {
   "cell_type": "markdown",
   "id": "b36b14a9",
   "metadata": {},
   "source": [
    "### UI"
   ]
  },
  {
   "cell_type": "code",
   "execution_count": 8,
   "id": "fe0c95b2",
   "metadata": {},
   "outputs": [
    {
     "data": {
      "application/vnd.jupyter.widget-view+json": {
       "model_id": "47f57c906e7e49128d790cf3c1a4c153",
       "version_major": 2,
       "version_minor": 0
      },
      "text/plain": [
       "VBox(children=(Dropdown(description='Subject:', layout=Layout(width='250px'), options=('NDARAC904DMU',), value…"
      ]
     },
     "metadata": {},
     "output_type": "display_data"
    }
   ],
   "source": [
    "%matplotlib inline\n",
    "\n",
    "visualizer = EEGVisualization(subject_data)\n",
    "controller = EEGController(subject_data, visualizer)\n",
    "\n",
    "ui = EEGUI(controller)\n",
    "ui.show()"
   ]
  },
  {
   "cell_type": "code",
   "execution_count": 9,
   "id": "a376b1dc",
   "metadata": {},
   "outputs": [
    {
     "data": {
      "text/plain": [
       "{'open': 3, 'close': 2}"
      ]
     },
     "execution_count": 9,
     "metadata": {},
     "output_type": "execute_result"
    }
   ],
   "source": [
    "task_data = controller.subject_data.get_task(\"NDARAC904DMU\",\"RestingState\")\n",
    "epochs = task_data.epochs\n",
    "epochs.event_id"
   ]
  }
 ],
 "metadata": {
  "kernelspec": {
   "display_name": "py312_env",
   "language": "python",
   "name": "python3"
  },
  "language_info": {
   "codemirror_mode": {
    "name": "ipython",
    "version": 3
   },
   "file_extension": ".py",
   "mimetype": "text/x-python",
   "name": "python",
   "nbconvert_exporter": "python",
   "pygments_lexer": "ipython3",
   "version": "3.10.11"
  }
 },
 "nbformat": 4,
 "nbformat_minor": 5
}
