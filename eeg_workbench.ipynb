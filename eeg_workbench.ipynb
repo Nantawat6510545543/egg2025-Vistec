{
 "cells": [
  {
   "cell_type": "markdown",
   "id": "bfdd7831",
   "metadata": {},
   "source": [
    "## Import"
   ]
  },
  {
   "cell_type": "code",
   "execution_count": 1,
   "id": "b8d0cf5d",
   "metadata": {},
   "outputs": [],
   "source": [
    "import warnings\n",
    "\n",
    "warnings.filterwarnings(\"ignore\", message=\".*boundary.*data discontinuities.*\")\n",
    "warnings.filterwarnings(\"ignore\", message=\"FigureCanvasAgg is non-interactive, and thus cannot be shown\")"
   ]
  },
  {
   "cell_type": "code",
   "execution_count": 2,
   "id": "c9b78945",
   "metadata": {},
   "outputs": [],
   "source": [
    "def reload_classes():\n",
    "    import importlib\n",
    "\n",
    "    import eegkit.controller\n",
    "    import eegkit.gui\n",
    "    import eegkit.visualization\n",
    "\n",
    "    importlib.reload(eegkit.controller)\n",
    "    importlib.reload(eegkit.gui)\n",
    "    importlib.reload(eegkit.visualization)\n",
    "\n",
    "    from eegkit.controller import EEGController\n",
    "    from eegkit.gui import EEGUI\n",
    "    from eegkit.visualization import EEGVisualization\n",
    "\n",
    "    return EEGController, EEGUI, EEGVisualization"
   ]
  },
  {
   "cell_type": "code",
   "execution_count": 3,
   "id": "3f1a537f",
   "metadata": {},
   "outputs": [],
   "source": [
    "def reload_data_classes():\n",
    "    import importlib\n",
    "\n",
    "    import eegkit.subject\n",
    "\n",
    "    importlib.reload(eegkit.subject)\n",
    "\n",
    "    from eegkit.subject import EEGSubjectData\n",
    "\n",
    "    return EEGSubjectData"
   ]
  },
  {
   "cell_type": "markdown",
   "id": "2efce9b0",
   "metadata": {},
   "source": [
    "# Main"
   ]
  },
  {
   "cell_type": "markdown",
   "id": "8b556f69",
   "metadata": {},
   "source": [
    "### Load"
   ]
  },
  {
   "cell_type": "code",
   "execution_count": 4,
   "id": "b82d17c6",
   "metadata": {},
   "outputs": [],
   "source": [
    "EEGSubjectData = reload_data_classes()\n",
    "release = 1\n",
    "data_dir = f'/mount/NAS-public-dataset/HBN-EEG/cmi_bids_R{release}'\n",
    "subject_data = EEGSubjectData(data_dir)"
   ]
  },
  {
   "cell_type": "markdown",
   "id": "5334c873",
   "metadata": {},
   "source": [
    "### UI"
   ]
  },
  {
   "cell_type": "code",
   "execution_count": 9,
   "id": "0fff9d2d",
   "metadata": {},
   "outputs": [
    {
     "data": {
      "application/vnd.jupyter.widget-view+json": {
       "model_id": "30a05cfeaae347789af43d7eebca6e6e",
       "version_major": 2,
       "version_minor": 0
      },
      "text/plain": [
       "VBox(children=(ToggleButtons(description='Mode:', layout=Layout(width='300px'), options=('Plot', 'Table'), val…"
      ]
     },
     "metadata": {},
     "output_type": "display_data"
    }
   ],
   "source": [
    "%matplotlib inline\n",
    "EEGController, EEGUI, EEGVisualization = reload_classes()\n",
    "visualizer = EEGVisualization(subject_data)\n",
    "controller = EEGController(subject_data, visualizer)\n",
    "ui = EEGUI(controller)\n",
    "ui.show()"
   ]
  },
  {
   "cell_type": "markdown",
   "id": "376db2b5",
   "metadata": {},
   "source": [
    "# Debug"
   ]
  },
  {
   "cell_type": "code",
   "execution_count": 6,
   "id": "42ded94e",
   "metadata": {},
   "outputs": [
    {
     "data": {
      "text/plain": [
       "'sub-NDARAC904DMU'"
      ]
     },
     "execution_count": 6,
     "metadata": {},
     "output_type": "execute_result"
    }
   ],
   "source": [
    "subjects = sorted(controller.list_subjects())\n",
    "subject = subjects[0]\n",
    "subject"
   ]
  },
  {
   "cell_type": "code",
   "execution_count": 7,
   "id": "5fa27d75",
   "metadata": {},
   "outputs": [
    {
     "name": "stdout",
     "output_type": "stream",
     "text": [
      "0 ('DespicableMe', None)\n",
      "1 ('DiaryOfAWimpyKid', None)\n",
      "2 ('FunwithFractals', None)\n",
      "3 ('RestingState', None)\n",
      "4 ('ThePresent', None)\n",
      "5 ('contrastChangeDetection', '1')\n",
      "6 ('contrastChangeDetection', '2')\n",
      "7 ('contrastChangeDetection', '3')\n",
      "8 ('seqLearning8target', None)\n",
      "9 ('surroundSupp', '1')\n",
      "10 ('surroundSupp', '2')\n",
      "11 ('symbolSearch', None)\n"
     ]
    }
   ],
   "source": [
    "task_keys = sorted(controller.list_tasks(subject))\n",
    "for (i, item) in enumerate(task_keys):\n",
    "    print(i, item)"
   ]
  },
  {
   "cell_type": "code",
   "execution_count": 8,
   "id": "f060c284",
   "metadata": {},
   "outputs": [
    {
     "ename": "RuntimeError",
     "evalue": "Cell must be confirmed manually.",
     "output_type": "error",
     "traceback": [
      "\u001b[0;31m---------------------------------------------------------------------------\u001b[0m",
      "\u001b[0;31mRuntimeError\u001b[0m                              Traceback (most recent call last)",
      "Cell \u001b[0;32mIn[8], line 4\u001b[0m\n\u001b[1;32m      1\u001b[0m confirmation \u001b[38;5;241m=\u001b[39m \u001b[38;5;28minput\u001b[39m(\u001b[38;5;124m\"\u001b[39m\u001b[38;5;124mType \u001b[39m\u001b[38;5;124m'\u001b[39m\u001b[38;5;124myes\u001b[39m\u001b[38;5;124m'\u001b[39m\u001b[38;5;124m to continue: \u001b[39m\u001b[38;5;124m\"\u001b[39m)\n\u001b[1;32m      3\u001b[0m \u001b[38;5;28;01mif\u001b[39;00m confirmation\u001b[38;5;241m.\u001b[39mlower() \u001b[38;5;241m!=\u001b[39m \u001b[38;5;124m'\u001b[39m\u001b[38;5;124myes\u001b[39m\u001b[38;5;124m'\u001b[39m:\n\u001b[0;32m----> 4\u001b[0m     \u001b[38;5;28;01mraise\u001b[39;00m \u001b[38;5;167;01mRuntimeError\u001b[39;00m(\u001b[38;5;124m\"\u001b[39m\u001b[38;5;124mCell must be confirmed manually.\u001b[39m\u001b[38;5;124m\"\u001b[39m)\n",
      "\u001b[0;31mRuntimeError\u001b[0m: Cell must be confirmed manually."
     ]
    }
   ],
   "source": [
    "confirmation = input(\"Type 'yes' to continue: \")\n",
    "\n",
    "if confirmation.lower() != 'yes':\n",
    "    raise RuntimeError(\"Cell must be confirmed manually.\")"
   ]
  },
  {
   "cell_type": "code",
   "execution_count": 20,
   "id": "e1566132",
   "metadata": {},
   "outputs": [
    {
     "data": {
      "text/plain": [
       "{'PowerLineFrequency': 60,\n",
       " 'TaskName': 'surroundSupp',\n",
       " 'EEGChannelCount': 129,\n",
       " 'EEGReference': 'Cz',\n",
       " 'RecordingType': 'continuous',\n",
       " 'RecordingDuration': 293.42,\n",
       " 'SamplingFrequency': 500,\n",
       " 'SoftwareFilters': 'n/a'}"
      ]
     },
     "execution_count": 20,
     "metadata": {},
     "output_type": "execute_result"
    }
   ],
   "source": [
    "task, run = task_keys[9]\n",
    "task_data = controller.subject_data.get_task(subject,task,run=run)\n",
    "task_data.show_annotations()"
   ]
  },
  {
   "cell_type": "code",
   "execution_count": null,
   "id": "3ec7508c",
   "metadata": {},
   "outputs": [
    {
     "data": {
      "text/plain": [
       "['bg0_fg0.0_stim2',\n",
       " 'bg0_fg0.0_stim3',\n",
       " 'bg0_fg0.0_stim3',\n",
       " 'bg0_fg0.3_stim1',\n",
       " 'bg0_fg0.3_stim1',\n",
       " 'bg0_fg0.3_stim1',\n",
       " 'bg0_fg0.6_stim2',\n",
       " 'bg0_fg0.6_stim2',\n",
       " 'bg0_fg0.6_stim3',\n",
       " 'bg0_fg1.0_stim2']"
      ]
     },
     "metadata": {},
     "output_type": "display_data"
    }
   ],
   "source": [
    "epochs, labels = task_data.get_epochs()\n",
    "sorted(labels)[:10]"
   ]
  }
 ],
 "metadata": {
  "kernelspec": {
   "display_name": "py312_env",
   "language": "python",
   "name": "python3"
  },
  "language_info": {
   "codemirror_mode": {
    "name": "ipython",
    "version": 3
   },
   "file_extension": ".py",
   "mimetype": "text/x-python",
   "name": "python",
   "nbconvert_exporter": "python",
   "pygments_lexer": "ipython3",
   "version": "3.10.13"
  }
 },
 "nbformat": 4,
 "nbformat_minor": 5
}
